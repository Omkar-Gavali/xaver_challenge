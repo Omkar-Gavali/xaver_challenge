{
 "cells": [
  {
   "cell_type": "markdown",
   "id": "f2a8e5eb-73bb-49b5-80d4-39a0f3b1061d",
   "metadata": {},
   "source": [
    "# RAG with Lanchain framework "
   ]
  },
  {
   "cell_type": "code",
   "execution_count": null,
   "id": "d7022aae-9f4d-4c55-b836-a52c247ded66",
   "metadata": {},
   "outputs": [],
   "source": [
    "# Required imports\n",
    "import getpass\n",
    "import os\n",
    "from langchain.vectorstores import Chroma\n",
    "from langchain.embeddings import OpenAIEmbeddings\n",
    "from langchain.llms import OpenAI\n",
    "from langchain.chains import RetrievalQA\n",
    "from langchain_groq import ChatGroq\n",
    "from langchain_ollama import OllamaEmbeddings\n",
    "from langchain_huggingface import HuggingFaceEmbeddings\n",
    "from langchain_huggingface.embeddings import HuggingFaceEmbeddings\n",
    "from sentence_transformers import SentenceTransformer\n",
    "from langchain_community.document_loaders import PyMuPDFLoader\n",
    "from langchain_experimental.text_splitter import SemanticChunker\n",
    "from langchain.text_splitter import RecursiveCharacterTextSplitter\n",
    "from langchain.text_splitter import NLTKTextSplitter\n"
   ]
  },
  {
   "cell_type": "code",
   "execution_count": 2,
   "id": "5435b764-f0b1-4bbd-8aee-6ec9d171387b",
   "metadata": {},
   "outputs": [
    {
     "name": "stdin",
     "output_type": "stream",
     "text": [
      " ········\n"
     ]
    }
   ],
   "source": [
    "#set Groq API key for accessing the LLM\n",
    "os.environ[\"GROQ_API_KEY\"] = getpass.getpass()\n"
   ]
  },
  {
   "cell_type": "markdown",
   "id": "63fd2406-1889-489f-b47f-b90d7a1d3374",
   "metadata": {},
   "source": [
    "## Loading and Splitting the data"
   ]
  },
  {
   "cell_type": "code",
   "execution_count": 3,
   "id": "9450ca32-6ed3-4315-ba7d-3077ae4201e0",
   "metadata": {},
   "outputs": [],
   "source": [
    "# Load the PDF document using PyMuPDFLoader\n",
    "file_path = \"./data/AI_and_Technology_Knowledge_Base.pdf\"  # Specify  file path here\n",
    "loader = PyMuPDFLoader(file_path)\n",
    "data = loader.load()"
   ]
  },
  {
   "cell_type": "code",
   "execution_count": 4,
   "id": "ce59cfdc-2009-4926-b572-757c39f873dc",
   "metadata": {},
   "outputs": [
    {
     "name": "stderr",
     "output_type": "stream",
     "text": [
      "[nltk_data] Downloading package punkt_tab to /home/jovyan/nltk_data...\n",
      "[nltk_data]   Package punkt_tab is already up-to-date!\n"
     ]
    },
    {
     "data": {
      "text/plain": [
       "True"
      ]
     },
     "execution_count": 4,
     "metadata": {},
     "output_type": "execute_result"
    }
   ],
   "source": [
    "import nltk\n",
    "nltk.download('punkt_tab')"
   ]
  },
  {
   "cell_type": "code",
   "execution_count": 5,
   "id": "3b4083bb-8858-49c3-a640-1457de40c7e4",
   "metadata": {},
   "outputs": [],
   "source": [
    "# Split documents into smaller chunks using NLTKTextSplitter: Linguistic-Based Splitting\n",
    "text_splitter = NLTKTextSplitter(\n",
    "    chunk_size=300,\n",
    "    chunk_overlap=20\n",
    ")"
   ]
  },
  {
   "cell_type": "code",
   "execution_count": 6,
   "id": "7c31a9ac-a5c7-41e4-a26a-17a65ef85627",
   "metadata": {},
   "outputs": [
    {
     "name": "stdout",
     "output_type": "stream",
     "text": [
      "26\n"
     ]
    }
   ],
   "source": [
    "documents = text_splitter.split_documents(data)\n",
    "print(len(documents))"
   ]
  },
  {
   "cell_type": "code",
   "execution_count": 7,
   "id": "c5a560d3-0d9f-42ed-b065-f83711ab48f0",
   "metadata": {},
   "outputs": [
    {
     "data": {
      "text/plain": [
       "Document(metadata={'source': './data/AI_and_Technology_Knowledge_Base.pdf', 'file_path': './data/AI_and_Technology_Knowledge_Base.pdf', 'page': 0, 'total_pages': 2, 'format': 'PDF 1.4', 'title': 'AI_and_Technology_Knowledge_Base.docx', 'author': '', 'subject': '', 'keywords': '', 'creator': '', 'producer': 'Skia/PDF m131 Google Docs Renderer', 'creationDate': '', 'modDate': '', 'trapped': ''}, page_content='AI and Technology Knowledge Base\\nIntroduction to Artificial Intelligence\\nArtificial Intelligence (AI) is a branch of computer science that focuses on creating machines\\ncapable of performing tasks that would normally require human intelligence.')"
      ]
     },
     "execution_count": 7,
     "metadata": {},
     "output_type": "execute_result"
    }
   ],
   "source": [
    "documents[0]\n"
   ]
  },
  {
   "cell_type": "code",
   "execution_count": 22,
   "id": "6c719b1d-d750-4168-aeef-bacb5a609456",
   "metadata": {},
   "outputs": [
    {
     "name": "stdout",
     "output_type": "stream",
     "text": [
      "8\n"
     ]
    }
   ],
   "source": [
    "# Another method for splitting which did not give good splits in chunks\n",
    "#text_splitter = RecursiveCharacterTextSplitter(chunk_size=1000, chunk_overlap=200)\n",
    "#documents = text_splitter.split_documents(data)\n",
    "#print(len(documents))"
   ]
  },
  {
   "cell_type": "markdown",
   "id": "ba33ee57-3316-4940-b5d3-efe3e0153e82",
   "metadata": {},
   "source": [
    "## Embedding & Vector Database"
   ]
  },
  {
   "cell_type": "code",
   "execution_count": 8,
   "id": "68654b80-01d7-4a4b-b5b6-a8b456cf0cff",
   "metadata": {},
   "outputs": [],
   "source": [
    "# Set up embeddings\n",
    "embeddings = HuggingFaceEmbeddings(model_name=\"sentence-transformers/all-mpnet-base-v2\")\n",
    "\n",
    "# Set up a vector store using Chroma\n",
    "persist_directory = \"./db\"  # Directory to store the vector database\n",
    "vector_store = Chroma.from_documents(documents, embeddings, persist_directory=persist_directory)\n"
   ]
  },
  {
   "cell_type": "markdown",
   "id": "dcd401fd-6784-4884-b2c8-f1250393046f",
   "metadata": {},
   "source": [
    "## LLM and Retrieval Mechanism"
   ]
  },
  {
   "cell_type": "code",
   "execution_count": 9,
   "id": "fa50526e-b4bd-422b-82ad-4927f9d453aa",
   "metadata": {},
   "outputs": [],
   "source": [
    "\n",
    "# Define your ChatGroq model with desired parameters\n",
    "llm = ChatGroq(\n",
    "    model=\"mixtral-8x7b-32768\",\n",
    "    temperature=0,  # Control the randomness of the output\n",
    "    max_tokens=None,  # Max tokens for each response\n",
    "    timeout=None,  # Timeout for each request\n",
    "    max_retries=2  # Number of retries on failures\n",
    ")\n",
    "\n",
    "# Create a retriever from the vector store\n",
    "retriever = vector_store.as_retriever(search_type=\"similarity\", search_kwargs={\"k\": 10})  # Adjust `k` as needed\n"
   ]
  },
  {
   "cell_type": "markdown",
   "id": "c2fdd994-0218-49e3-9bcd-6b5c593487cf",
   "metadata": {},
   "source": [
    "## Building a Chatbot interface"
   ]
  },
  {
   "cell_type": "code",
   "execution_count": 11,
   "id": "d22fdc97-2b7d-4bb4-abfd-203bc62ceeb2",
   "metadata": {},
   "outputs": [],
   "source": [
    "# Defined a custom prompt template\n",
    "PROMPT_TEMPLATE = \"\"\"\n",
    "You are a helpful assistant. Use the following context to answer the user's question accurately. Do not make up information or include anything not present in the context. If you are not sure about any answer ask the user for calrification.\n",
    "\n",
    "Context:\n",
    "{context}\n",
    "\n",
    "Conversation History:\n",
    "{conversation_history}\n",
    "\n",
    "User's Question:\n",
    "{user_input}\n",
    "\n",
    "Assistant's Response:\n",
    "\"\"\""
   ]
  },
  {
   "cell_type": "code",
   "execution_count": 12,
   "id": "af0295e3-1ee6-4549-960b-3be4d68cba00",
   "metadata": {},
   "outputs": [],
   "source": [
    "def chat_with_llm(prompt, chat_history=[], custom_template=PROMPT_TEMPLATE):\n",
    "    try:\n",
    "        # Combine the chat history with the current prompt for contextual awareness\n",
    "        conversation_context = \"\\n\\n\".join([f\"User: {entry['user']}\\nAssistant: {entry['assistant']}\" for entry in chat_history])\n",
    "\n",
    "        # Retrieve relevant documents based on the current prompt using the retriever\n",
    "        docs = retriever.invoke(prompt)\n",
    "\n",
    "        # Combine the relevant documents into a context string\n",
    "        context = \"\\n\\n\".join([f\"Document {i + 1}: {doc.page_content}\" for i, doc in enumerate(docs)])\n",
    "\n",
    "        # Format the model input using the custom prompt template to achieve clarification if answer not in documents\n",
    "        model_input = custom_template.format(\n",
    "            context=context,\n",
    "            conversation_history=conversation_context,\n",
    "            user_input=prompt\n",
    "        )\n",
    "\n",
    "        # Generate a response using the LLM with temperature set to 0 for factual responses\n",
    "        response = llm.invoke(model_input, temperature=0)\n",
    "\n",
    "        # Add the current interaction to chat history for context in the next interaction\n",
    "        chat_history.append({\n",
    "            \"user\": prompt,\n",
    "            \"assistant\": response.content\n",
    "        })\n",
    "\n",
    "        # Print the model's response\n",
    "        print(f\"LLM Response: {response.content}\\n\")\n",
    "\n",
    "        # Print the retrieved sources with their content, limiting to top 3 which can be incresed\n",
    "        print(\"Top 3 Sources and Relevant Content:\")\n",
    "        for i, doc in enumerate(docs[:3]):  # Limit to the first 3 documents\n",
    "            source_info = doc.metadata.get('source', 'No Source Information')\n",
    "            print(f\"{i + 1}: {source_info}\")\n",
    "            print(f\"Content: {doc.page_content[:300]}...\")  # Displaying first 300 characters for brevity\n",
    "            print(\"-\" * 50)\n",
    "\n",
    "    except Exception as e:\n",
    "        print(f\"Error: {e}\")"
   ]
  },
  {
   "cell_type": "code",
   "execution_count": 13,
   "id": "eea45998-5c60-44b3-9825-55e30e73cab4",
   "metadata": {},
   "outputs": [
    {
     "name": "stdout",
     "output_type": "stream",
     "text": [
      "Welcome to the chatbot! Type 'exit' to quit.\n",
      "\n"
     ]
    },
    {
     "name": "stdin",
     "output_type": "stream",
     "text": [
      "You:  Can you explain blockchain?\n"
     ]
    },
    {
     "name": "stdout",
     "output_type": "stream",
     "text": [
      "LLM Response: Sure, I'd be happy to explain blockchain based on the provided documents.\n",
      "\n",
      "Blockchain is a type of technology that underpins cryptocurrencies like Bitcoin and Ethereum, but its applications extend far beyond digital currencies. It's essentially a chain of blocks, where each block contains a set of transactions. This technology is decentralized and distributed, meaning it's not controlled by any single entity and transactions are recorded across multiple computers in a way that can't be altered retroactively.\n",
      "\n",
      "Each participant (or node) in the blockchain has a copy of the entire ledger, eliminating the need for intermediaries like banks in peer-to-peer transactions. Once a block is completed, it's added to the chain in a linear, chronological order, and the record of the transaction is permanently stored.\n",
      "\n",
      "One of the key features of blockchain is its security. This is ensured by linking each block in the chain to the previous block using a cryptographic hash, which maintains the integrity of the entire chain.\n",
      "\n",
      "In addition to these features, there's an exciting development in the blockchain space called smart contracts. These are self-executing contracts with the terms of the agreement directly written into code, enabling automated and trustless transactions.\n",
      "\n",
      "I hope this gives you a good understanding of blockchain! If you have any more questions, feel free to ask.\n",
      "\n",
      "Top 3 Sources and Relevant Content:\n",
      "1: ./data/AI_and_Technology_Knowledge_Base.pdf\n",
      "Content: Blockchain technology underpins cryptocurrencies like Bitcoin and\n",
      "Ethereum, but its applications extend far beyond digital currencies.\n",
      "\n",
      "In essence, a blockchain\n",
      "is a chain of blocks, where each block contains a set of transactions....\n",
      "--------------------------------------------------\n",
      "2: ./data/AI_and_Technology_Knowledge_Base.pdf\n",
      "Content: Blockchain Technology Overview\n",
      "Blockchain is a decentralized and distributed digital ledger technology that records\n",
      "transactions across multiple computers in such a way that the recorded transactions cannot\n",
      "be altered retroactively....\n",
      "--------------------------------------------------\n",
      "3: ./data/AI_and_Technology_Knowledge_Base.pdf\n",
      "Content: This security feature makes blockchain particularly well-suited for applications where trust\n",
      "and transparency are critical.\n",
      "\n",
      "Blockchain's decentralized nature means that no single entity controls the entire network....\n",
      "--------------------------------------------------\n"
     ]
    },
    {
     "name": "stdin",
     "output_type": "stream",
     "text": [
      "You:  what is a block?\n"
     ]
    },
    {
     "name": "stdout",
     "output_type": "stream",
     "text": [
      "LLM Response: A block, in the context of blockchain technology, is a unit of data storage that holds a set of transactions. Once a block is filled with transactions, it is added to the blockchain in a linear, chronological order. The record of these transactions is permanently stored in the blockchain. Each block is linked to the previous block using a cryptographic hash, which helps maintain the integrity and security of the entire chain.\n",
      "\n",
      "Top 3 Sources and Relevant Content:\n",
      "1: ./data/AI_and_Technology_Knowledge_Base.pdf\n",
      "Content: Blockchain technology underpins cryptocurrencies like Bitcoin and\n",
      "Ethereum, but its applications extend far beyond digital currencies.\n",
      "\n",
      "In essence, a blockchain\n",
      "is a chain of blocks, where each block contains a set of transactions....\n",
      "--------------------------------------------------\n",
      "2: ./data/AI_and_Technology_Knowledge_Base.pdf\n",
      "Content: Once a block is\n",
      "completed, it is added to the chain in a linear, chronological order, and the record of the\n",
      "transaction is permanently stored.\n",
      "\n",
      "One of the key features of blockchain is its security....\n",
      "--------------------------------------------------\n",
      "3: ./data/AI_and_Technology_Knowledge_Base.pdf\n",
      "Content: Each block in the chain is linked to the\n",
      "previous block using a cryptographic hash, ensuring the integrity of the entire chain....\n",
      "--------------------------------------------------\n"
     ]
    },
    {
     "name": "stdin",
     "output_type": "stream",
     "text": [
      "You:  what was my first question?\n"
     ]
    },
    {
     "name": "stdout",
     "output_type": "stream",
     "text": [
      "LLM Response: Your first question was, \"Can you explain blockchain?\" I provided an explanation based on the documents provided, describing blockchain as a type of technology that underpins cryptocurrencies, a chain of blocks where each block contains a set of transactions, and its decentralized and distributed nature, among other features.\n",
      "\n",
      "Top 3 Sources and Relevant Content:\n",
      "1: ./data/AI_and_Technology_Knowledge_Base.pdf\n",
      "Content: In the 1950s, computer scientists like Alan Turing and John McCarthy\n",
      "laid the foundation for AI by exploring questions of machine intelligence.\n",
      "\n",
      "Turing's 'Turing\n",
      "Test' remains a benchmark for evaluating a machine's ability to exhibit intelligent behavior\n",
      "indistinguishable from that of a human....\n",
      "--------------------------------------------------\n",
      "2: ./data/AI_and_Technology_Knowledge_Base.pdf\n",
      "Content: Machine learning models can be trained to recognize patterns in data,\n",
      "enabling them to make predictions and decisions.\n",
      "\n",
      "In recent years, advances in neural\n",
      "networks, deep learning, and reinforcement learning have propelled AI to new heights....\n",
      "--------------------------------------------------\n",
      "3: ./data/AI_and_Technology_Knowledge_Base.pdf\n",
      "Content: AI and Technology Knowledge Base\n",
      "Introduction to Artificial Intelligence\n",
      "Artificial Intelligence (AI) is a branch of computer science that focuses on creating machines\n",
      "capable of performing tasks that would normally require human intelligence....\n",
      "--------------------------------------------------\n"
     ]
    },
    {
     "name": "stdin",
     "output_type": "stream",
     "text": [
      "You:  exit\n"
     ]
    },
    {
     "name": "stdout",
     "output_type": "stream",
     "text": [
      "Goodbye!\n"
     ]
    }
   ],
   "source": [
    "# Chatbot in interactive mode with memory and a custom prompt template\n",
    "def start_interactive_chat():\n",
    "    chat_history = []  # Initialize an empty chat history\n",
    "    print(\"Welcome to the chatbot! Type 'exit' to quit.\\n\")\n",
    "    while True:\n",
    "        user_input = input(\"You: \")\n",
    "        if user_input.lower() in [\"exit\", \"quit\"]:\n",
    "            print(\"Goodbye!\")\n",
    "            break\n",
    "\n",
    "        # Call the chat_with_llm function with the current input, chat history, and custom prompt template\n",
    "        chat_with_llm(user_input, chat_history, custom_template=PROMPT_TEMPLATE)\n",
    "\n",
    "# Start the interactive chat\n",
    "start_interactive_chat()"
   ]
  },
  {
   "cell_type": "code",
   "execution_count": null,
   "id": "149be16c-5375-439f-9f32-29164233d666",
   "metadata": {},
   "outputs": [],
   "source": []
  },
  {
   "cell_type": "code",
   "execution_count": null,
   "id": "4ac6230a-d05e-43df-b300-6f05b8e19f52",
   "metadata": {},
   "outputs": [],
   "source": []
  },
  {
   "cell_type": "code",
   "execution_count": null,
   "id": "21608289-2e26-48af-a2b9-0219f3bb8708",
   "metadata": {},
   "outputs": [],
   "source": []
  },
  {
   "cell_type": "code",
   "execution_count": null,
   "id": "6d6c289e-cd96-4ef9-8f09-eda1b5e74bcf",
   "metadata": {},
   "outputs": [],
   "source": [
    "\n"
   ]
  },
  {
   "cell_type": "code",
   "execution_count": null,
   "id": "b7a04a8b-2884-444d-88af-ea0d99a91084",
   "metadata": {},
   "outputs": [],
   "source": []
  },
  {
   "cell_type": "code",
   "execution_count": null,
   "id": "da557786-a27a-42a5-8cad-b4ffac725188",
   "metadata": {},
   "outputs": [],
   "source": []
  }
 ],
 "metadata": {
  "kernelspec": {
   "display_name": "python(rag)",
   "language": "python",
   "name": "rag"
  },
  "language_info": {
   "codemirror_mode": {
    "name": "ipython",
    "version": 3
   },
   "file_extension": ".py",
   "mimetype": "text/x-python",
   "name": "python",
   "nbconvert_exporter": "python",
   "pygments_lexer": "ipython3",
   "version": "3.11.7"
  }
 },
 "nbformat": 4,
 "nbformat_minor": 5
}
